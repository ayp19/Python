{
 "cells": [
  {
   "cell_type": "code",
   "execution_count": 31,
   "metadata": {},
   "outputs": [
    {
     "name": "stdout",
     "output_type": "stream",
     "text": [
      "usuarios de Escuela De Código\n",
      "--------------------\n",
      "nombre:juan\n",
      "folio:3\n"
     ]
    }
   ],
   "source": [
    "taller = 'escuela de código'.title()\n",
    "folio = 3\n",
    "nombre = 'juan'\n",
    "titulo = 'usuarios de'\n",
    "print(f'usuarios de {taller}')\n",
    "\n",
    "print ('-'*20)\n",
    "print(f'nombre:{nombre}\\nfolio:{folio}')\n"
   ]
  }
 ],
 "metadata": {
  "kernelspec": {
   "display_name": "Python 3.6.9 64-bit",
   "language": "python",
   "name": "python3"
  },
  "language_info": {
   "codemirror_mode": {
    "name": "ipython",
    "version": 3
   },
   "file_extension": ".py",
   "mimetype": "text/x-python",
   "name": "python",
   "nbconvert_exporter": "python",
   "pygments_lexer": "ipython3",
   "version": "3.6.9"
  },
  "orig_nbformat": 4,
  "vscode": {
   "interpreter": {
    "hash": "31f2aee4e71d21fbe5cf8b01ff0e069b9275f58929596ceb00d14d90e3e16cd6"
   }
  }
 },
 "nbformat": 4,
 "nbformat_minor": 2
}
