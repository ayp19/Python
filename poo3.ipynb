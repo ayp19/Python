{
  "nbformat": 4,
  "nbformat_minor": 0,
  "metadata": {
    "colab": {
      "name": "poo3.ipynb",
      "provenance": []
    },
    "kernelspec": {
      "name": "python3",
      "display_name": "Python 3"
    },
    "language_info": {
      "name": "python"
    }
  },
  "cells": [
    {
      "cell_type": "markdown",
      "source": [
        "Realizamos un programa que solicita los nombres de los usuarios a registrar en el taller. El ejemplo es básico en forma estructural, trata de identificar cada parte que lo compone, después trata de hacer lo mismo pero con el paradigna POO."
      ],
      "metadata": {
        "id": "JnCyXA5tC_91"
      }
    },
    {
      "cell_type": "code",
      "execution_count": null,
      "metadata": {
        "id": "RbOF0lcqsZzI"
      },
      "outputs": [],
      "source": [
        "\n",
        "nombres = []\n",
        "folios = []\n",
        "\n",
        "while True:\n",
        "\n",
        "\n",
        "  eleccion = input(\"\"\"\n",
        "  1 - Registrar un usuario nuevo\n",
        "  2 - Mostrar usuarios\n",
        "  3 - Eliminar un usuario\n",
        "  4 - Eliminar todos los usuarios\n",
        "  5 - Salir\n",
        "  Selecciona una opción: \"\"\")\n",
        "  \n",
        "  if eleccion == \"1\":\n",
        "      nombre = input(\"Nombre del usuario: \")\n",
        "      folio = input(\"Folio del usuaro: \")\n",
        "      nombres.append(nombre)\n",
        "      folios.append(folio)\n",
        "      \n",
        "  elif eleccion == \"2\":\n",
        "     if len(nombres) == 0:\n",
        "        print('no hay usuarios')\n",
        "     else:\n",
        "        print(\"+----------+----------+\")\n",
        "        print(\"|NOMBRE    |    FOLIO |\")\n",
        "        print(\"+----------+----------+\")\n",
        "        indice = 0\n",
        "     while indice < len(nombres):\n",
        "          nombre = nombres[indice]\n",
        "          folio = folios[indice]\n",
        "          print(f'| {nombre}    |    {folio}    |')\n",
        "          print(\"+------------+----------+\")\n",
        "          indice = indice + 1\n",
        "      \n",
        "       \n",
        "  elif eleccion == \"3\":\n",
        "      nombre_usuario = input(\"Nombre del usuario que se elimina: \")\n",
        "      if nombre_usuario in nombres:\n",
        "          indice = nombres.index(nombre_usuario)\n",
        "          del nombres[indice]\n",
        "          del folios[indice]\n",
        "          print(f\"Se elimina {nombre_usuario}\")\n",
        "      else:\n",
        "          print(\"El usuario no existe\")\n",
        "\n",
        "  elif eleccion == \"4\":\n",
        "      if input(\"Seguro (s/n): \") == \"s\":\n",
        "          nombres = []\n",
        "          precios = []\n",
        "          print('se eliminaron todos los usuarios')\n",
        "\n",
        "  elif eleccion == \"5\":\n",
        "      if input(\"Seguro (s/n): \") == \"s\":\n",
        "        break\n",
        "\n",
        "  else:\n",
        "    print('Opción invalida')"
      ]
    },
    {
      "cell_type": "markdown",
      "source": [
        "Ahora usando POO escribe el código del mismo programa"
      ],
      "metadata": {
        "id": "SnuHeRzqNsQ1"
      }
    },
    {
      "cell_type": "code",
      "source": [
        "#Tú código aqui"
      ],
      "metadata": {
        "id": "h85WESgANyk-"
      },
      "execution_count": null,
      "outputs": []
    },
    {
      "cell_type": "markdown",
      "source": [
        "Ahora usando getters y setters"
      ],
      "metadata": {
        "id": "FrE_eOnJ0nmP"
      }
    },
    {
      "cell_type": "code",
      "source": [
        "#Tú código aqui"
        
        
        nombres = [] # Creamos la lista que almacena nombres y folio
folios = []

while True: #se usa un bucle infinito con while true que se detendra con un break o hasta que se diga.

#mostrara algunas opciones para selecionar alguna
  eleccion = input(""" 
  1 - Registrar un usuario nuevo
  2 - Mostrar usuarios
  3 - Eliminar un usuario
  4 - Eliminar todos los usuarios
  5 - Salir
  Selecciona una opción: """)
  
  if eleccion == "1": 
      nombre = input("Nombre del usuario: ")# va a almacenar el nombre en esta variable
      folio = input("Folio del usuaro: ")# va a almacenar el folio en esta variable
      nombres.append(nombre) # agregamos el nombre a la lista
      folios.append(folio) # agregamos el folio a la lista
  # en caso de seleccionar la opción 2
  elif eleccion == "2": # usamos elif para enlazar varios "else if" esto ayuda a evaluar varias condiciones 
     if len(nombres) == 0:#  se usa la condicional y el método len ( que nos indicara la longitud de la cadena)
        print('no hay usuarios')# en caso de ser 0 se va a imprimir la leyenda 'no hay usuarios'
     else: # si la condición da false imprimira la lista para ver los valores ingresados en este caso nombre y folio 
        print("+----------+----------+")
        print("|NOMBRE    |    FOLIO |")
        print("+----------+----------+")
        indice = 0
     while indice < len(nombres): # condición  mientras el indice  sea a menor a la lomg. de la cadena nombres 
          nombre = nombres[indice]
          folio = folios[indice]
          print(f'| {nombre}    |    {folio}    |')# se imprimira el nombre y el folio 
          print("+------------+----------+")
          indice = indice + 1# aumentamos el valor del indice
      
       
  elif eleccion == "3": # condicion número 3 
      nombre_usuario = input("Nombre del usuario que se elimina: ") # pedimos el nombre para entrar en la validación de while
      if nombre_usuario in nombres: # si encuentra el nombre ingresado en la lista
          indice = nombres.index(nombre_usuario) # buscará el nombre con el método index si el nombre esta dentro de la lista
          del nombres[indice]# utilizará la declaración len para eliminar en este caso nombres
          del folios[indice]# utilizará igual la declaración len 
          print(f"Se elimina {nombre_usuario}")# mostrará le leyenda Se elimina y el nombre del usuario almacenado
      else:# en caso de ser False 
          print("El usuario no existe")# se mostrara la leyenda el usuario no existe 

  elif eleccion == "4": #en caso de que se 
      if input("Seguro (s/n): ") == "s":#se imprimira la leyenda
          nombres = []
          precios = []
          print('se eliminaron todos los usuarios')# se  muestra que ya se eliminaron los usuarios

  elif eleccion == "5":
      if input("Seguro (s/n): ") == "s":
        break #termina el ciclo por el break 

  else:
    print('Opción invalida')# se imprime la leyenda opción invalida



      ],
      "metadata": {
        "id": "BNMCmw0l0zTU"
      },
      "execution_count": null,
      "outputs": []
    }
  ]
}






